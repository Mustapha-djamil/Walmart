{
  "nbformat": 4,
  "nbformat_minor": 0,
  "metadata": {
    "colab": {
      "provenance": []
    },
    "kernelspec": {
      "name": "python3",
      "display_name": "Python 3"
    },
    "language_info": {
      "name": "python"
    }
  },
  "cells": [
    {
      "cell_type": "markdown",
      "source": [
        "## Import Libraries :"
      ],
      "metadata": {
        "id": "cAxkvhdxFsSz"
      }
    },
    {
      "cell_type": "code",
      "source": [
        "import pandas as pd\n",
        "import chardet\n",
        "import sklearn\n",
        "import matplotlib.pyplot as plt\n",
        "import seaborn as sns\n",
        "import numpy as np\n",
        "from google.colab import files\n",
        "from sklearn.pipeline import Pipeline\n",
        "from sklearn.impute import SimpleImputer\n",
        "from sklearn.preprocessing import  OneHotEncoder, StandardScaler, LabelEncoder\n",
        "from sklearn.compose import ColumnTransformer\n",
        "from sklearn.linear_model import LogisticRegression ,Ridge,Lasso,LinearRegression\n",
        "from sklearn.metrics import accuracy_score,r2_score\n",
        "from sklearn.model_selection import  GridSearchCV, cross_val_score,cross_validate,train_test_split\n",
        "import warnings\n",
        "warnings.filterwarnings(\"ignore\", category=DeprecationWarning)"
      ],
      "metadata": {
        "id": "qgk9php4F1Lx"
      },
      "execution_count": 106,
      "outputs": []
    },
    {
      "cell_type": "markdown",
      "source": [
        "Upload file :"
      ],
      "metadata": {
        "id": "oAohA1nNLRYV"
      }
    },
    {
      "cell_type": "code",
      "source": [
        "uploaded = files.upload()\n",
        "\n",
        "with open(list(uploaded.keys())[0], 'rb') as f:\n",
        "    result = chardet.detect(f.read())\n",
        "\n",
        "# Read the file using the detected encoding\n",
        "dataset = pd.read_csv(list(uploaded.keys())[0], encoding=result['encoding'])"
      ],
      "metadata": {
        "colab": {
          "base_uri": "https://localhost:8080/",
          "height": 93
        },
        "id": "jVhST_uPFlIp",
        "outputId": "29bebb53-cd17-4c35-beb3-934fe6797260"
      },
      "execution_count": 72,
      "outputs": [
        {
          "output_type": "display_data",
          "data": {
            "text/plain": [
              "<IPython.core.display.HTML object>"
            ],
            "text/html": [
              "\n",
              "     <input type=\"file\" id=\"files-d75cbf70-98e3-4841-80d3-7d9248895010\" name=\"files[]\" multiple disabled\n",
              "        style=\"border:none\" />\n",
              "     <output id=\"result-d75cbf70-98e3-4841-80d3-7d9248895010\">\n",
              "      Upload widget is only available when the cell has been executed in the\n",
              "      current browser session. Please rerun this cell to enable.\n",
              "      </output>\n",
              "      <script>// Copyright 2017 Google LLC\n",
              "//\n",
              "// Licensed under the Apache License, Version 2.0 (the \"License\");\n",
              "// you may not use this file except in compliance with the License.\n",
              "// You may obtain a copy of the License at\n",
              "//\n",
              "//      http://www.apache.org/licenses/LICENSE-2.0\n",
              "//\n",
              "// Unless required by applicable law or agreed to in writing, software\n",
              "// distributed under the License is distributed on an \"AS IS\" BASIS,\n",
              "// WITHOUT WARRANTIES OR CONDITIONS OF ANY KIND, either express or implied.\n",
              "// See the License for the specific language governing permissions and\n",
              "// limitations under the License.\n",
              "\n",
              "/**\n",
              " * @fileoverview Helpers for google.colab Python module.\n",
              " */\n",
              "(function(scope) {\n",
              "function span(text, styleAttributes = {}) {\n",
              "  const element = document.createElement('span');\n",
              "  element.textContent = text;\n",
              "  for (const key of Object.keys(styleAttributes)) {\n",
              "    element.style[key] = styleAttributes[key];\n",
              "  }\n",
              "  return element;\n",
              "}\n",
              "\n",
              "// Max number of bytes which will be uploaded at a time.\n",
              "const MAX_PAYLOAD_SIZE = 100 * 1024;\n",
              "\n",
              "function _uploadFiles(inputId, outputId) {\n",
              "  const steps = uploadFilesStep(inputId, outputId);\n",
              "  const outputElement = document.getElementById(outputId);\n",
              "  // Cache steps on the outputElement to make it available for the next call\n",
              "  // to uploadFilesContinue from Python.\n",
              "  outputElement.steps = steps;\n",
              "\n",
              "  return _uploadFilesContinue(outputId);\n",
              "}\n",
              "\n",
              "// This is roughly an async generator (not supported in the browser yet),\n",
              "// where there are multiple asynchronous steps and the Python side is going\n",
              "// to poll for completion of each step.\n",
              "// This uses a Promise to block the python side on completion of each step,\n",
              "// then passes the result of the previous step as the input to the next step.\n",
              "function _uploadFilesContinue(outputId) {\n",
              "  const outputElement = document.getElementById(outputId);\n",
              "  const steps = outputElement.steps;\n",
              "\n",
              "  const next = steps.next(outputElement.lastPromiseValue);\n",
              "  return Promise.resolve(next.value.promise).then((value) => {\n",
              "    // Cache the last promise value to make it available to the next\n",
              "    // step of the generator.\n",
              "    outputElement.lastPromiseValue = value;\n",
              "    return next.value.response;\n",
              "  });\n",
              "}\n",
              "\n",
              "/**\n",
              " * Generator function which is called between each async step of the upload\n",
              " * process.\n",
              " * @param {string} inputId Element ID of the input file picker element.\n",
              " * @param {string} outputId Element ID of the output display.\n",
              " * @return {!Iterable<!Object>} Iterable of next steps.\n",
              " */\n",
              "function* uploadFilesStep(inputId, outputId) {\n",
              "  const inputElement = document.getElementById(inputId);\n",
              "  inputElement.disabled = false;\n",
              "\n",
              "  const outputElement = document.getElementById(outputId);\n",
              "  outputElement.innerHTML = '';\n",
              "\n",
              "  const pickedPromise = new Promise((resolve) => {\n",
              "    inputElement.addEventListener('change', (e) => {\n",
              "      resolve(e.target.files);\n",
              "    });\n",
              "  });\n",
              "\n",
              "  const cancel = document.createElement('button');\n",
              "  inputElement.parentElement.appendChild(cancel);\n",
              "  cancel.textContent = 'Cancel upload';\n",
              "  const cancelPromise = new Promise((resolve) => {\n",
              "    cancel.onclick = () => {\n",
              "      resolve(null);\n",
              "    };\n",
              "  });\n",
              "\n",
              "  // Wait for the user to pick the files.\n",
              "  const files = yield {\n",
              "    promise: Promise.race([pickedPromise, cancelPromise]),\n",
              "    response: {\n",
              "      action: 'starting',\n",
              "    }\n",
              "  };\n",
              "\n",
              "  cancel.remove();\n",
              "\n",
              "  // Disable the input element since further picks are not allowed.\n",
              "  inputElement.disabled = true;\n",
              "\n",
              "  if (!files) {\n",
              "    return {\n",
              "      response: {\n",
              "        action: 'complete',\n",
              "      }\n",
              "    };\n",
              "  }\n",
              "\n",
              "  for (const file of files) {\n",
              "    const li = document.createElement('li');\n",
              "    li.append(span(file.name, {fontWeight: 'bold'}));\n",
              "    li.append(span(\n",
              "        `(${file.type || 'n/a'}) - ${file.size} bytes, ` +\n",
              "        `last modified: ${\n",
              "            file.lastModifiedDate ? file.lastModifiedDate.toLocaleDateString() :\n",
              "                                    'n/a'} - `));\n",
              "    const percent = span('0% done');\n",
              "    li.appendChild(percent);\n",
              "\n",
              "    outputElement.appendChild(li);\n",
              "\n",
              "    const fileDataPromise = new Promise((resolve) => {\n",
              "      const reader = new FileReader();\n",
              "      reader.onload = (e) => {\n",
              "        resolve(e.target.result);\n",
              "      };\n",
              "      reader.readAsArrayBuffer(file);\n",
              "    });\n",
              "    // Wait for the data to be ready.\n",
              "    let fileData = yield {\n",
              "      promise: fileDataPromise,\n",
              "      response: {\n",
              "        action: 'continue',\n",
              "      }\n",
              "    };\n",
              "\n",
              "    // Use a chunked sending to avoid message size limits. See b/62115660.\n",
              "    let position = 0;\n",
              "    do {\n",
              "      const length = Math.min(fileData.byteLength - position, MAX_PAYLOAD_SIZE);\n",
              "      const chunk = new Uint8Array(fileData, position, length);\n",
              "      position += length;\n",
              "\n",
              "      const base64 = btoa(String.fromCharCode.apply(null, chunk));\n",
              "      yield {\n",
              "        response: {\n",
              "          action: 'append',\n",
              "          file: file.name,\n",
              "          data: base64,\n",
              "        },\n",
              "      };\n",
              "\n",
              "      let percentDone = fileData.byteLength === 0 ?\n",
              "          100 :\n",
              "          Math.round((position / fileData.byteLength) * 100);\n",
              "      percent.textContent = `${percentDone}% done`;\n",
              "\n",
              "    } while (position < fileData.byteLength);\n",
              "  }\n",
              "\n",
              "  // All done.\n",
              "  yield {\n",
              "    response: {\n",
              "      action: 'complete',\n",
              "    }\n",
              "  };\n",
              "}\n",
              "\n",
              "scope.google = scope.google || {};\n",
              "scope.google.colab = scope.google.colab || {};\n",
              "scope.google.colab._files = {\n",
              "  _uploadFiles,\n",
              "  _uploadFilesContinue,\n",
              "};\n",
              "})(self);\n",
              "</script> "
            ]
          },
          "metadata": {}
        },
        {
          "output_type": "stream",
          "name": "stdout",
          "text": [
            "Saving Walmart_Store_sales.csv to Walmart_Store_sales (2).csv\n"
          ]
        }
      ]
    },
    {
      "cell_type": "markdown",
      "source": [
        "## Part 1 : EDA and all preprocessings"
      ],
      "metadata": {
        "id": "pepiPHImGMQ_"
      }
    },
    {
      "cell_type": "code",
      "source": [
        "print(\"Display of dataset: \")\n",
        "display(dataset.head())\n",
        "print(\"Percentage of missing values: \")\n",
        "display(100*dataset.isnull().sum()/dataset.shape[0])"
      ],
      "metadata": {
        "colab": {
          "base_uri": "https://localhost:8080/",
          "height": 417
        },
        "id": "hsNq7JUqGMmG",
        "outputId": "724a1291-c660-4736-84ae-860ce18e54ca"
      },
      "execution_count": 74,
      "outputs": [
        {
          "output_type": "stream",
          "name": "stdout",
          "text": [
            "Display of dataset: \n"
          ]
        },
        {
          "output_type": "display_data",
          "data": {
            "text/plain": [
              "   Store        Date  Weekly_Sales  Holiday_Flag  Temperature  Fuel_Price  \\\n",
              "0    6.0  18-02-2011    1572117.54           NaN        59.61       3.045   \n",
              "1   13.0  25-03-2011    1807545.43           0.0        42.38       3.435   \n",
              "2   17.0  27-07-2012           NaN           0.0          NaN         NaN   \n",
              "3   11.0         NaN    1244390.03           0.0        84.57         NaN   \n",
              "4    6.0  28-05-2010    1644470.66           0.0        78.89       2.759   \n",
              "\n",
              "          CPI  Unemployment  \n",
              "0  214.777523         6.858  \n",
              "1  128.616064         7.470  \n",
              "2  130.719581         5.936  \n",
              "3  214.556497         7.346  \n",
              "4  212.412888         7.092  "
            ],
            "text/html": [
              "\n",
              "  <div id=\"df-8f2aafe6-2c2f-422b-946e-a82e3e434797\" class=\"colab-df-container\">\n",
              "    <div>\n",
              "<style scoped>\n",
              "    .dataframe tbody tr th:only-of-type {\n",
              "        vertical-align: middle;\n",
              "    }\n",
              "\n",
              "    .dataframe tbody tr th {\n",
              "        vertical-align: top;\n",
              "    }\n",
              "\n",
              "    .dataframe thead th {\n",
              "        text-align: right;\n",
              "    }\n",
              "</style>\n",
              "<table border=\"1\" class=\"dataframe\">\n",
              "  <thead>\n",
              "    <tr style=\"text-align: right;\">\n",
              "      <th></th>\n",
              "      <th>Store</th>\n",
              "      <th>Date</th>\n",
              "      <th>Weekly_Sales</th>\n",
              "      <th>Holiday_Flag</th>\n",
              "      <th>Temperature</th>\n",
              "      <th>Fuel_Price</th>\n",
              "      <th>CPI</th>\n",
              "      <th>Unemployment</th>\n",
              "    </tr>\n",
              "  </thead>\n",
              "  <tbody>\n",
              "    <tr>\n",
              "      <th>0</th>\n",
              "      <td>6.0</td>\n",
              "      <td>18-02-2011</td>\n",
              "      <td>1572117.54</td>\n",
              "      <td>NaN</td>\n",
              "      <td>59.61</td>\n",
              "      <td>3.045</td>\n",
              "      <td>214.777523</td>\n",
              "      <td>6.858</td>\n",
              "    </tr>\n",
              "    <tr>\n",
              "      <th>1</th>\n",
              "      <td>13.0</td>\n",
              "      <td>25-03-2011</td>\n",
              "      <td>1807545.43</td>\n",
              "      <td>0.0</td>\n",
              "      <td>42.38</td>\n",
              "      <td>3.435</td>\n",
              "      <td>128.616064</td>\n",
              "      <td>7.470</td>\n",
              "    </tr>\n",
              "    <tr>\n",
              "      <th>2</th>\n",
              "      <td>17.0</td>\n",
              "      <td>27-07-2012</td>\n",
              "      <td>NaN</td>\n",
              "      <td>0.0</td>\n",
              "      <td>NaN</td>\n",
              "      <td>NaN</td>\n",
              "      <td>130.719581</td>\n",
              "      <td>5.936</td>\n",
              "    </tr>\n",
              "    <tr>\n",
              "      <th>3</th>\n",
              "      <td>11.0</td>\n",
              "      <td>NaN</td>\n",
              "      <td>1244390.03</td>\n",
              "      <td>0.0</td>\n",
              "      <td>84.57</td>\n",
              "      <td>NaN</td>\n",
              "      <td>214.556497</td>\n",
              "      <td>7.346</td>\n",
              "    </tr>\n",
              "    <tr>\n",
              "      <th>4</th>\n",
              "      <td>6.0</td>\n",
              "      <td>28-05-2010</td>\n",
              "      <td>1644470.66</td>\n",
              "      <td>0.0</td>\n",
              "      <td>78.89</td>\n",
              "      <td>2.759</td>\n",
              "      <td>212.412888</td>\n",
              "      <td>7.092</td>\n",
              "    </tr>\n",
              "  </tbody>\n",
              "</table>\n",
              "</div>\n",
              "    <div class=\"colab-df-buttons\">\n",
              "\n",
              "  <div class=\"colab-df-container\">\n",
              "    <button class=\"colab-df-convert\" onclick=\"convertToInteractive('df-8f2aafe6-2c2f-422b-946e-a82e3e434797')\"\n",
              "            title=\"Convert this dataframe to an interactive table.\"\n",
              "            style=\"display:none;\">\n",
              "\n",
              "  <svg xmlns=\"http://www.w3.org/2000/svg\" height=\"24px\" viewBox=\"0 -960 960 960\">\n",
              "    <path d=\"M120-120v-720h720v720H120Zm60-500h600v-160H180v160Zm220 220h160v-160H400v160Zm0 220h160v-160H400v160ZM180-400h160v-160H180v160Zm440 0h160v-160H620v160ZM180-180h160v-160H180v160Zm440 0h160v-160H620v160Z\"/>\n",
              "  </svg>\n",
              "    </button>\n",
              "\n",
              "  <style>\n",
              "    .colab-df-container {\n",
              "      display:flex;\n",
              "      gap: 12px;\n",
              "    }\n",
              "\n",
              "    .colab-df-convert {\n",
              "      background-color: #E8F0FE;\n",
              "      border: none;\n",
              "      border-radius: 50%;\n",
              "      cursor: pointer;\n",
              "      display: none;\n",
              "      fill: #1967D2;\n",
              "      height: 32px;\n",
              "      padding: 0 0 0 0;\n",
              "      width: 32px;\n",
              "    }\n",
              "\n",
              "    .colab-df-convert:hover {\n",
              "      background-color: #E2EBFA;\n",
              "      box-shadow: 0px 1px 2px rgba(60, 64, 67, 0.3), 0px 1px 3px 1px rgba(60, 64, 67, 0.15);\n",
              "      fill: #174EA6;\n",
              "    }\n",
              "\n",
              "    .colab-df-buttons div {\n",
              "      margin-bottom: 4px;\n",
              "    }\n",
              "\n",
              "    [theme=dark] .colab-df-convert {\n",
              "      background-color: #3B4455;\n",
              "      fill: #D2E3FC;\n",
              "    }\n",
              "\n",
              "    [theme=dark] .colab-df-convert:hover {\n",
              "      background-color: #434B5C;\n",
              "      box-shadow: 0px 1px 3px 1px rgba(0, 0, 0, 0.15);\n",
              "      filter: drop-shadow(0px 1px 2px rgba(0, 0, 0, 0.3));\n",
              "      fill: #FFFFFF;\n",
              "    }\n",
              "  </style>\n",
              "\n",
              "    <script>\n",
              "      const buttonEl =\n",
              "        document.querySelector('#df-8f2aafe6-2c2f-422b-946e-a82e3e434797 button.colab-df-convert');\n",
              "      buttonEl.style.display =\n",
              "        google.colab.kernel.accessAllowed ? 'block' : 'none';\n",
              "\n",
              "      async function convertToInteractive(key) {\n",
              "        const element = document.querySelector('#df-8f2aafe6-2c2f-422b-946e-a82e3e434797');\n",
              "        const dataTable =\n",
              "          await google.colab.kernel.invokeFunction('convertToInteractive',\n",
              "                                                    [key], {});\n",
              "        if (!dataTable) return;\n",
              "\n",
              "        const docLinkHtml = 'Like what you see? Visit the ' +\n",
              "          '<a target=\"_blank\" href=https://colab.research.google.com/notebooks/data_table.ipynb>data table notebook</a>'\n",
              "          + ' to learn more about interactive tables.';\n",
              "        element.innerHTML = '';\n",
              "        dataTable['output_type'] = 'display_data';\n",
              "        await google.colab.output.renderOutput(dataTable, element);\n",
              "        const docLink = document.createElement('div');\n",
              "        docLink.innerHTML = docLinkHtml;\n",
              "        element.appendChild(docLink);\n",
              "      }\n",
              "    </script>\n",
              "  </div>\n",
              "\n",
              "\n",
              "<div id=\"df-5e43de89-7e62-4e5e-bd45-2ddd3dbb6acc\">\n",
              "  <button class=\"colab-df-quickchart\" onclick=\"quickchart('df-5e43de89-7e62-4e5e-bd45-2ddd3dbb6acc')\"\n",
              "            title=\"Suggest charts\"\n",
              "            style=\"display:none;\">\n",
              "\n",
              "<svg xmlns=\"http://www.w3.org/2000/svg\" height=\"24px\"viewBox=\"0 0 24 24\"\n",
              "     width=\"24px\">\n",
              "    <g>\n",
              "        <path d=\"M19 3H5c-1.1 0-2 .9-2 2v14c0 1.1.9 2 2 2h14c1.1 0 2-.9 2-2V5c0-1.1-.9-2-2-2zM9 17H7v-7h2v7zm4 0h-2V7h2v10zm4 0h-2v-4h2v4z\"/>\n",
              "    </g>\n",
              "</svg>\n",
              "  </button>\n",
              "\n",
              "<style>\n",
              "  .colab-df-quickchart {\n",
              "      --bg-color: #E8F0FE;\n",
              "      --fill-color: #1967D2;\n",
              "      --hover-bg-color: #E2EBFA;\n",
              "      --hover-fill-color: #174EA6;\n",
              "      --disabled-fill-color: #AAA;\n",
              "      --disabled-bg-color: #DDD;\n",
              "  }\n",
              "\n",
              "  [theme=dark] .colab-df-quickchart {\n",
              "      --bg-color: #3B4455;\n",
              "      --fill-color: #D2E3FC;\n",
              "      --hover-bg-color: #434B5C;\n",
              "      --hover-fill-color: #FFFFFF;\n",
              "      --disabled-bg-color: #3B4455;\n",
              "      --disabled-fill-color: #666;\n",
              "  }\n",
              "\n",
              "  .colab-df-quickchart {\n",
              "    background-color: var(--bg-color);\n",
              "    border: none;\n",
              "    border-radius: 50%;\n",
              "    cursor: pointer;\n",
              "    display: none;\n",
              "    fill: var(--fill-color);\n",
              "    height: 32px;\n",
              "    padding: 0;\n",
              "    width: 32px;\n",
              "  }\n",
              "\n",
              "  .colab-df-quickchart:hover {\n",
              "    background-color: var(--hover-bg-color);\n",
              "    box-shadow: 0 1px 2px rgba(60, 64, 67, 0.3), 0 1px 3px 1px rgba(60, 64, 67, 0.15);\n",
              "    fill: var(--button-hover-fill-color);\n",
              "  }\n",
              "\n",
              "  .colab-df-quickchart-complete:disabled,\n",
              "  .colab-df-quickchart-complete:disabled:hover {\n",
              "    background-color: var(--disabled-bg-color);\n",
              "    fill: var(--disabled-fill-color);\n",
              "    box-shadow: none;\n",
              "  }\n",
              "\n",
              "  .colab-df-spinner {\n",
              "    border: 2px solid var(--fill-color);\n",
              "    border-color: transparent;\n",
              "    border-bottom-color: var(--fill-color);\n",
              "    animation:\n",
              "      spin 1s steps(1) infinite;\n",
              "  }\n",
              "\n",
              "  @keyframes spin {\n",
              "    0% {\n",
              "      border-color: transparent;\n",
              "      border-bottom-color: var(--fill-color);\n",
              "      border-left-color: var(--fill-color);\n",
              "    }\n",
              "    20% {\n",
              "      border-color: transparent;\n",
              "      border-left-color: var(--fill-color);\n",
              "      border-top-color: var(--fill-color);\n",
              "    }\n",
              "    30% {\n",
              "      border-color: transparent;\n",
              "      border-left-color: var(--fill-color);\n",
              "      border-top-color: var(--fill-color);\n",
              "      border-right-color: var(--fill-color);\n",
              "    }\n",
              "    40% {\n",
              "      border-color: transparent;\n",
              "      border-right-color: var(--fill-color);\n",
              "      border-top-color: var(--fill-color);\n",
              "    }\n",
              "    60% {\n",
              "      border-color: transparent;\n",
              "      border-right-color: var(--fill-color);\n",
              "    }\n",
              "    80% {\n",
              "      border-color: transparent;\n",
              "      border-right-color: var(--fill-color);\n",
              "      border-bottom-color: var(--fill-color);\n",
              "    }\n",
              "    90% {\n",
              "      border-color: transparent;\n",
              "      border-bottom-color: var(--fill-color);\n",
              "    }\n",
              "  }\n",
              "</style>\n",
              "\n",
              "  <script>\n",
              "    async function quickchart(key) {\n",
              "      const quickchartButtonEl =\n",
              "        document.querySelector('#' + key + ' button');\n",
              "      quickchartButtonEl.disabled = true;  // To prevent multiple clicks.\n",
              "      quickchartButtonEl.classList.add('colab-df-spinner');\n",
              "      try {\n",
              "        const charts = await google.colab.kernel.invokeFunction(\n",
              "            'suggestCharts', [key], {});\n",
              "      } catch (error) {\n",
              "        console.error('Error during call to suggestCharts:', error);\n",
              "      }\n",
              "      quickchartButtonEl.classList.remove('colab-df-spinner');\n",
              "      quickchartButtonEl.classList.add('colab-df-quickchart-complete');\n",
              "    }\n",
              "    (() => {\n",
              "      let quickchartButtonEl =\n",
              "        document.querySelector('#df-5e43de89-7e62-4e5e-bd45-2ddd3dbb6acc button');\n",
              "      quickchartButtonEl.style.display =\n",
              "        google.colab.kernel.accessAllowed ? 'block' : 'none';\n",
              "    })();\n",
              "  </script>\n",
              "</div>\n",
              "\n",
              "    </div>\n",
              "  </div>\n"
            ],
            "application/vnd.google.colaboratory.intrinsic+json": {
              "type": "dataframe",
              "summary": "{\n  \"name\": \"display(100*dataset\",\n  \"rows\": 5,\n  \"fields\": [\n    {\n      \"column\": \"Store\",\n      \"properties\": {\n        \"dtype\": \"number\",\n        \"std\": 4.722287581247038,\n        \"min\": 6.0,\n        \"max\": 17.0,\n        \"num_unique_values\": 4,\n        \"samples\": [\n          13.0,\n          11.0,\n          6.0\n        ],\n        \"semantic_type\": \"\",\n        \"description\": \"\"\n      }\n    },\n    {\n      \"column\": \"Date\",\n      \"properties\": {\n        \"dtype\": \"object\",\n        \"num_unique_values\": 4,\n        \"samples\": [\n          \"25-03-2011\",\n          \"28-05-2010\",\n          \"18-02-2011\"\n        ],\n        \"semantic_type\": \"\",\n        \"description\": \"\"\n      }\n    },\n    {\n      \"column\": \"Weekly_Sales\",\n      \"properties\": {\n        \"dtype\": \"number\",\n        \"std\": 236620.03328742337,\n        \"min\": 1244390.03,\n        \"max\": 1807545.43,\n        \"num_unique_values\": 4,\n        \"samples\": [\n          1807545.43,\n          1644470.66,\n          1572117.54\n        ],\n        \"semantic_type\": \"\",\n        \"description\": \"\"\n      }\n    },\n    {\n      \"column\": \"Holiday_Flag\",\n      \"properties\": {\n        \"dtype\": \"number\",\n        \"std\": 0.0,\n        \"min\": 0.0,\n        \"max\": 0.0,\n        \"num_unique_values\": 1,\n        \"samples\": [\n          0.0\n        ],\n        \"semantic_type\": \"\",\n        \"description\": \"\"\n      }\n    },\n    {\n      \"column\": \"Temperature\",\n      \"properties\": {\n        \"dtype\": \"number\",\n        \"std\": 19.22851940044613,\n        \"min\": 42.38,\n        \"max\": 84.57,\n        \"num_unique_values\": 4,\n        \"samples\": [\n          42.38\n        ],\n        \"semantic_type\": \"\",\n        \"description\": \"\"\n      }\n    },\n    {\n      \"column\": \"Fuel_Price\",\n      \"properties\": {\n        \"dtype\": \"number\",\n        \"std\": 0.3393307138078329,\n        \"min\": 2.759,\n        \"max\": 3.435,\n        \"num_unique_values\": 3,\n        \"samples\": [\n          3.045\n        ],\n        \"semantic_type\": \"\",\n        \"description\": \"\"\n      }\n    },\n    {\n      \"column\": \"CPI\",\n      \"properties\": {\n        \"dtype\": \"number\",\n        \"std\": 46.159660614189114,\n        \"min\": 128.6160645,\n        \"max\": 214.7775231,\n        \"num_unique_values\": 5,\n        \"samples\": [\n          128.6160645\n        ],\n        \"semantic_type\": \"\",\n        \"description\": \"\"\n      }\n    },\n    {\n      \"column\": \"Unemployment\",\n      \"properties\": {\n        \"dtype\": \"number\",\n        \"std\": 0.609011329943869,\n        \"min\": 5.936,\n        \"max\": 7.47,\n        \"num_unique_values\": 5,\n        \"samples\": [\n          7.47\n        ],\n        \"semantic_type\": \"\",\n        \"description\": \"\"\n      }\n    }\n  ]\n}"
            }
          },
          "metadata": {}
        },
        {
          "output_type": "stream",
          "name": "stdout",
          "text": [
            "Percentage of missing values: \n"
          ]
        },
        {
          "output_type": "display_data",
          "data": {
            "text/plain": [
              "Store            0.000000\n",
              "Date            12.000000\n",
              "Weekly_Sales     9.333333\n",
              "Holiday_Flag     8.000000\n",
              "Temperature     12.000000\n",
              "Fuel_Price       9.333333\n",
              "CPI              8.000000\n",
              "Unemployment    10.000000\n",
              "dtype: float64"
            ]
          },
          "metadata": {}
        }
      ]
    },
    {
      "cell_type": "markdown",
      "source": [
        "☢️ Our focus is on Weekly_Sales, and it's important to exclude any data points where this value is missing, as they could potentially skew our analysis."
      ],
      "metadata": {
        "id": "cLZm3IUrG0Az"
      }
    },
    {
      "cell_type": "code",
      "source": [
        "dataset = dataset.dropna(axis=0, subset=['Weekly_Sales'])\n",
        "print(\"New percentage of missing values: \")\n",
        "display(100*dataset.isnull().sum()/dataset.shape[0])"
      ],
      "metadata": {
        "colab": {
          "base_uri": "https://localhost:8080/",
          "height": 211
        },
        "id": "T_jXNt6zG0q8",
        "outputId": "f5863cfe-7df4-4388-93f0-c40a2718ccc6"
      },
      "execution_count": 75,
      "outputs": [
        {
          "output_type": "stream",
          "name": "stdout",
          "text": [
            "New percentage of missing values: \n"
          ]
        },
        {
          "output_type": "display_data",
          "data": {
            "text/plain": [
              "Store            0.000000\n",
              "Date            13.235294\n",
              "Weekly_Sales     0.000000\n",
              "Holiday_Flag     8.088235\n",
              "Temperature     11.029412\n",
              "Fuel_Price       8.823529\n",
              "CPI              8.088235\n",
              "Unemployment    10.294118\n",
              "dtype: float64"
            ]
          },
          "metadata": {}
        }
      ]
    },
    {
      "cell_type": "markdown",
      "source": [
        "* add a new column to a dataset that contains the week number of the year for each date"
      ],
      "metadata": {
        "id": "rOpGIrIvH0_O"
      }
    },
    {
      "cell_type": "code",
      "source": [
        "dataset['Date'] = pd.to_datetime(dataset['Date'], errors='ignore')\n",
        "dataset['weekofyear'] = dataset['Date'].dt.isocalendar().week"
      ],
      "metadata": {
        "colab": {
          "base_uri": "https://localhost:8080/"
        },
        "id": "bBgZIdZeHKBQ",
        "outputId": "3cef0f8e-6e47-41e1-a7b8-f5abb3f590c5"
      },
      "execution_count": 76,
      "outputs": [
        {
          "output_type": "stream",
          "name": "stderr",
          "text": [
            "<ipython-input-76-4345dc48bc99>:1: UserWarning: Parsing dates in %d-%m-%Y format when dayfirst=False (the default) was specified. Pass `dayfirst=True` or specify a format to silence this warning.\n",
            "  dataset['Date'] = pd.to_datetime(dataset['Date'], errors='ignore')\n"
          ]
        }
      ]
    },
    {
      "cell_type": "markdown",
      "source": [
        "To ensure the accuracy and reliability of our analysis, we will remove any data points that contain invalid values or outliers. In this project, we will consider any numeric feature that falls outside of the range of [mean - 3 standard deviations, mean + 3 standard deviations] to be an outlier."
      ],
      "metadata": {
        "id": "TnmGwVS9INma"
      }
    },
    {
      "cell_type": "code",
      "source": [
        "features = ['Temperature', 'Fuel_Price', 'CPI', 'Unemployment']\n",
        "results = []\n",
        "\n",
        "for feature in features:\n",
        "    low = dataset[feature].mean() - 3 * dataset[feature].std()\n",
        "    high = dataset[feature].mean() + 3 * dataset[feature].std()\n",
        "    outliers = dataset.loc[(dataset[feature] <= low) | (dataset[feature] >= high)]\n",
        "    num_outliers = outliers.shape[0]\n",
        "    dataset = dataset.drop(outliers.index)\n",
        "    results.append([feature, num_outliers])\n",
        "\n",
        "results_df = pd.DataFrame(results, columns=['Feature', 'Number of Outliers'])\n",
        "print(results_df)\n"
      ],
      "metadata": {
        "colab": {
          "base_uri": "https://localhost:8080/"
        },
        "id": "qV__V3FZJOHq",
        "outputId": "8d79765b-4c33-4a3b-9088-c8bf08e1b4ed"
      },
      "execution_count": 77,
      "outputs": [
        {
          "output_type": "stream",
          "name": "stdout",
          "text": [
            "        Feature  Number of Outliers\n",
            "0   Temperature                   0\n",
            "1    Fuel_Price                   0\n",
            "2           CPI                   0\n",
            "3  Unemployment                   5\n"
          ]
        }
      ]
    },
    {
      "cell_type": "code",
      "source": [
        "#heatmap\n",
        "plt.figure(figsize=(10,6))\n",
        "sns.heatmap(dataset.corr(),cmap='RdYlBu',annot=True)\n",
        "plt.show()"
      ],
      "metadata": {
        "colab": {
          "base_uri": "https://localhost:8080/",
          "height": 640
        },
        "id": "krHCqqlLJzgB",
        "outputId": "73443859-9f15-4297-fd54-b40ac81aadbe"
      },
      "execution_count": 78,
      "outputs": [
        {
          "output_type": "display_data",
          "data": {
            "text/plain": [
              "<Figure size 1000x600 with 2 Axes>"
            ],
            "image/png": "[encoded data removed]"
          },
          "metadata": {}
        }
      ]
    },
    {
      "cell_type": "markdown",
      "source": [
        "💵 Explanation/commentary :"
      ],
      "metadata": {
        "id": "DxpCu8H0LGPs"
      }
    },
    {
      "cell_type": "markdown",
      "source": [
        "The analysis of the correlation between various features and weekly sales revealed that the Consumer Price Index (CPI) has the highest negative correlation with weekly sales, indicating that as prices rise, sales tend to decrease. This could be due to a decrease in disposable income for consumers. On the other hand, unemployment has the highest positive correlation with weekly sales, suggesting that as more people are out of work, sales tend to increase. This could be because Walmart is a low-cost store, and people who are out of work may be more likely to shop there in order to save money."
      ],
      "metadata": {
        "id": "V36v77zHLAew"
      }
    },
    {
      "cell_type": "markdown",
      "source": [
        "### Preprossesing :"
      ],
      "metadata": {
        "id": "LFjSwYJmMUAf"
      }
    },
    {
      "cell_type": "markdown",
      "source": [
        "The code prepares the data for a machine learning model by removing the 'Date' and 'Weekly_Sales' columns, as they are non-numeric and the target variable, respectively, and then splitting the data into feature variables (X) and target variable (Y) for training and testing the model."
      ],
      "metadata": {
        "id": "cSbb1-rNMiZn"
      }
    },
    {
      "cell_type": "code",
      "source": [
        "to_drop = ['Date', 'Weekly_Sales']\n",
        "features = [c for c in dataset.columns if c not in to_drop]\n",
        "target_name = 'Weekly_Sales'\n",
        "\n",
        "X = dataset.loc[:, features]\n",
        "Y = dataset.loc[:,target_name]\n",
        "print(\"Dividing into train and test sets...\")\n",
        "X_train, X_test, Y_train, Y_test = train_test_split(X, Y, test_size=0.2, random_state=0)\n",
        "print(\"...Done.\")\n",
        "print()"
      ],
      "metadata": {
        "colab": {
          "base_uri": "https://localhost:8080/"
        },
        "id": "lBy60THaQgeh",
        "outputId": "9585b337-4813-496d-c6d3-597384c98691"
      },
      "execution_count": 79,
      "outputs": [
        {
          "output_type": "stream",
          "name": "stdout",
          "text": [
            "Dividing into train and test sets...\n",
            "...Done.\n",
            "\n"
          ]
        }
      ]
    },
    {
      "cell_type": "code",
      "source": [
        "numeric_indices =[2,3,4,5,6]\n",
        "categorical_indices = [0,1]\n",
        "\n",
        "numeric_transformer = Pipeline(\n",
        "    steps=[\n",
        "        (\"num_imputer\", SimpleImputer(strategy=\"mean\")),\n",
        "        (\"num_scaler\", StandardScaler())\n",
        "    ]\n",
        ")\n",
        "\n",
        "categorical_transformer = Pipeline(\n",
        "    steps=[\n",
        "    ('imputer', SimpleImputer(strategy='most_frequent')),\n",
        "    ('encoder', OneHotEncoder(drop='first'))\n",
        "    ])\n",
        "\n",
        "\n",
        "preprocessor = ColumnTransformer(\n",
        "    transformers=[\n",
        "        ('cat', categorical_transformer, categorical_indices),\n",
        "        ('num', numeric_transformer, numeric_indices)\n",
        "        ]\n",
        "    )\n",
        "\n",
        "X_train = preprocessor.fit_transform(X_train)\n",
        "X_test = preprocessor.transform(X_test)\n",
        "print(\"...Done\")"
      ],
      "metadata": {
        "colab": {
          "base_uri": "https://localhost:8080/"
        },
        "id": "buTTKzA8ST0U",
        "outputId": "69a7f6b5-22b7-4864-d920-0da556185663"
      },
      "execution_count": 80,
      "outputs": [
        {
          "output_type": "stream",
          "name": "stdout",
          "text": [
            "...Done\n",
            "...Done\n"
          ]
        }
      ]
    },
    {
      "cell_type": "code",
      "source": [
        "encoder = preprocessor.transformers_[0][1].named_steps['encoder']\n",
        "cat_feat_names = ['Store_' + str(i) for i in encoder.categories_[0]] + ['Holiday_Flag_' + str(i) for i in encoder.categories_[1]]\n",
        "feature_name=cat_feat_names+['Temperature','Fuel_Price','CPI','Unemployment','weekofyear']"
      ],
      "metadata": {
        "id": "zzXH0gfWQpcA"
      },
      "execution_count": 81,
      "outputs": []
    },
    {
      "cell_type": "markdown",
      "source": [
        "## Part 2 [Baseline] : linear regression"
      ],
      "metadata": {
        "id": "HfvfynRdS1Mh"
      }
    },
    {
      "cell_type": "markdown",
      "source": [
        "Evaluate the performance of a linear regression model on a training dataset using cross-validation:"
      ],
      "metadata": {
        "id": "R6Z9xL2STrAX"
      }
    },
    {
      "cell_type": "code",
      "source": [
        "reg = LinearRegression()\n",
        "scoring = ['r2', 'neg_mean_squared_error']\n",
        "scores = cross_validate(reg, X_train, Y_train, cv=5, scoring=scoring)\n",
        "\n",
        "print('The cross-validated R2-score is : ', round(scores['test_r2'].mean(),4))\n",
        "print('The mean squared error is : ', round(-scores['test_neg_mean_squared_error'].mean(),4))\n",
        "print('The standard deviation of R2-score is : ', round(scores['test_r2'].std(),4))\n",
        "print('The standard deviation of mean squared error is : ', round(scores['test_neg_mean_squared_error'].std(),4))"
      ],
      "metadata": {
        "colab": {
          "base_uri": "https://localhost:8080/"
        },
        "id": "UovvYzM9S7i2",
        "outputId": "b17514ba-cbd6-4abf-eb00-9b911498ad4a"
      },
      "execution_count": 100,
      "outputs": [
        {
          "output_type": "stream",
          "name": "stdout",
          "text": [
            "The cross-validated R2-score is :  0.9466\n",
            "The mean squared error is :  21750101652.4395\n",
            "The standard deviation of R2-score is :  0.0159\n",
            "The standard deviation of mean squared error is :  6207937816.0618\n"
          ]
        }
      ]
    },
    {
      "cell_type": "markdown",
      "source": [
        "* The cross-validated R-squared score is 0.947, which indicates that the model explains approximately 94.7% of the variance in the target variable. This is a relatively high score, suggesting that the model fits the data well.\n",
        "\n",
        "* The mean squared error is 21.75 billion, which is a large value. This indicates that the model has a relatively high level of error when making predictions.\n",
        "* The standard deviation of the R-squared score is 0.016, which is a relatively low value. This indicates that the model's performance is consistent across different folds of cross-validation.\n",
        "* The standard deviation of the mean squared error is 6.21 billion, which is a relatively high value. This indicates that the model's performance is less consistent across different folds of cross-validation, and that there may be some variability in the model's predictions.\n"
      ],
      "metadata": {
        "id": "1AW-3SDGU3CG"
      }
    },
    {
      "cell_type": "markdown",
      "source": [
        "Overall, the results suggest that the linear regression model fits the data well, but that there is still room for improvement in terms of reducing the level of error in the model's predictions. Regularized regression models, such as Ridge or Lasso regression, may be able to improve the model's performance by reducing overfitting and improving the stability of the model's predictions."
      ],
      "metadata": {
        "id": "neYXTQ8fVMI4"
      }
    },
    {
      "cell_type": "markdown",
      "source": [
        "* Train the linreg model :"
      ],
      "metadata": {
        "id": "et6UZg2hVUis"
      }
    },
    {
      "cell_type": "code",
      "source": [
        "reg.fit(X_train, Y_train)\n",
        "print('...Done')"
      ],
      "metadata": {
        "colab": {
          "base_uri": "https://localhost:8080/"
        },
        "id": "3j7fDwtYU3t-",
        "outputId": "751b7f6f-e825-44a6-ee32-6f24dcf9c003"
      },
      "execution_count": 89,
      "outputs": [
        {
          "output_type": "stream",
          "name": "stdout",
          "text": [
            "...Done\n"
          ]
        }
      ]
    },
    {
      "cell_type": "markdown",
      "source": [
        "* Predictions :"
      ],
      "metadata": {
        "id": "Lf_-77k0VdyT"
      }
    },
    {
      "cell_type": "code",
      "source": [
        "Y_train_pred = reg.predict(X_train)\n",
        "Y_test_pred = reg.predict(X_test)"
      ],
      "metadata": {
        "id": "6hzp5ggwVfen"
      },
      "execution_count": 91,
      "outputs": []
    },
    {
      "cell_type": "markdown",
      "source": [
        "* Evaluate the performance of a trained regression model on both the training set and the test set :"
      ],
      "metadata": {
        "id": "H47Bl0R2VwPE"
      }
    },
    {
      "cell_type": "code",
      "source": [
        "print(\"R2 Train set: \", round(r2_score(Y_train, Y_train_pred),4))\n",
        "print(\"R2 Test set: \", round(r2_score(Y_test, Y_test_pred),4))"
      ],
      "metadata": {
        "colab": {
          "base_uri": "https://localhost:8080/"
        },
        "id": "R6qSU3_FVjUV",
        "outputId": "65b5b345-c4a0-4ab1-8e7e-23cc4a9bf972"
      },
      "execution_count": 98,
      "outputs": [
        {
          "output_type": "stream",
          "name": "stdout",
          "text": [
            "R2 Train set:  0.9703\n",
            "R2 Test set:  0.9319\n"
          ]
        }
      ]
    },
    {
      "cell_type": "markdown",
      "source": [
        "The R-squared score on the training set is higher than the R-squared score on the test set, which suggests that the model **may be overfitting** the training data."
      ],
      "metadata": {
        "id": "kWk5BLaWXQI6"
      }
    },
    {
      "cell_type": "markdown",
      "source": [
        "Overfitting occurs when a model is too complex and fits the training data too closely."
      ],
      "metadata": {
        "id": "5GqiI4_RYsXc"
      }
    },
    {
      "cell_type": "markdown",
      "source": [
        "## Part 3: Overfitting countermeasures"
      ],
      "metadata": {
        "id": "rREZviS4Y3qs"
      }
    },
    {
      "cell_type": "markdown",
      "source": [
        " Fight overfitting by training multiple regularized regression models with different values of the regularization parameter and comparing their performance on the validation set."
      ],
      "metadata": {
        "id": "5az8bujUZlmf"
      }
    },
    {
      "cell_type": "code",
      "source": [
        "def train_and_evaluate_models(X_train, Y_train, alpha_values):\n",
        "    models = {}\n",
        "    for alpha in alpha_values:\n",
        "        ridge_reg = Ridge(alpha=alpha)\n",
        "        ridge_reg.fit(X_train, Y_train)\n",
        "        lasso_reg = Lasso(alpha=alpha)\n",
        "        lasso_reg.fit(X_train, Y_train)\n",
        "        models[f'lasso_reg_alpha_{alpha}'] = lasso_reg\n",
        "\n",
        "    results = {}\n",
        "    for name, model in models.items():\n",
        "        scores = cross_val_score(model, X_train, Y_train, cv=5)\n",
        "        results[name] = {'mean_score': scores.mean(), 'std_score': scores.std()}\n",
        "\n",
        "    return models, results\n",
        "\n",
        "alpha_values = [0.01, 100]\n",
        "models, results = train_and_evaluate_models(X_train, Y_train, alpha_values)\n",
        "for name, result in results.items():\n",
        "    print(f'{name}: mean_score={result[\"mean_score\"]:.3f}, std_score={result[\"std_score\"]:.3f}')\n"
      ],
      "metadata": {
        "colab": {
          "base_uri": "https://localhost:8080/"
        },
        "id": "6rLCKH_gZDPN",
        "outputId": "23350c54-526c-4aed-97b0-a871a1abe84f"
      },
      "execution_count": 104,
      "outputs": [
        {
          "output_type": "stream",
          "name": "stdout",
          "text": [
            "ridge_reg_alpha_0.01: mean_score=0.946, std_score=0.016\n",
            "lasso_reg_alpha_0.01: mean_score=0.947, std_score=0.016\n",
            "ridge_reg_alpha_100: mean_score=0.027, std_score=0.120\n",
            "lasso_reg_alpha_100: mean_score=0.947, std_score=0.017\n"
          ]
        }
      ]
    },
    {
      "cell_type": "markdown",
      "source": [
        "We can see that the Ridge regression model with alpha=0.01 and the Lasso regression model with alpha=0.01 have similar mean scores of around 0.946 and 0.947, respectively. These scores are relatively high, indicating that these models fit the data well. The standard deviation scores for both models are also relatively low, indicating that the models' performance is consistent across different folds of cross-validation.\n",
        "\n",
        "On the other hand, the Ridge regression model with alpha=100 has a much lower mean score of 0.027, which suggests that this model is underfitting the data. The standard deviation score for this model is also higher than for the other models, indicating that the model's performance is less consistent across different folds of cross-validation.\n",
        "\n",
        "The Lasso regression model with alpha=100 has a mean score of 0.947, which is similar to the scores of the other models. However, the standard deviation score for this model is slightly higher than for the Lasso regression model with alpha=0.01. This suggests that the Lasso regression model with alpha=100 may be slightly less stable than the model with alpha=0.01, but it still fits the data well.\n",
        "\n",
        "Overall, the results suggest that the Ridge regression model with alpha=0.01 and the Lasso regression model with alpha=0.01 are the best-performing models, as they have the highest mean scores and the lowest standard deviation scores. The Ridge regression model with alpha=100 is underfitting the data, while the Lasso regression model with alpha=100 is slightly less stable than the model with alpha=0.01, but it still fits the data well."
      ],
      "metadata": {
        "id": "Y_YfeOV8bM3M"
      }
    },
    {
      "cell_type": "markdown",
      "source": [
        "* Perform hyperparameter tuning for a Lasso regression model (Grid search cross-validation):"
      ],
      "metadata": {
        "id": "Oi8Wy6A2cEER"
      }
    },
    {
      "cell_type": "code",
      "source": [
        "params = {'alpha': np.arange(0, 1000, 100)}\n",
        "lasso = Lasso()\n",
        "grid = GridSearchCV(lasso, params, cv = 10, verbose = 0)\n",
        "grid_fit = grid.fit(X_train, Y_train)\n",
        "\n",
        "print(\"Best value for alpha : \", grid_fit.best_params_)\n",
        "print('Train score for the best model : ', grid_fit.best_estimator_.score(X_train,Y_train))\n",
        "print('Test score for the best model : ', grid_fit.best_estimator_.score(X_test,Y_test))"
      ],
      "metadata": {
        "colab": {
          "base_uri": "https://localhost:8080/"
        },
        "id": "qwpxXiD1b96N",
        "outputId": "c9aef109-58e9-4a5e-ed0f-a1c478552828"
      },
      "execution_count": 105,
      "outputs": [
        {
          "output_type": "stream",
          "name": "stderr",
          "text": [
            "/usr/local/lib/python3.10/dist-packages/sklearn/model_selection/_validation.py:686: UserWarning: With alpha=0, this algorithm does not converge well. You are advised to use the LinearRegression estimator\n",
            "  estimator.fit(X_train, y_train, **fit_params)\n",
            "/usr/local/lib/python3.10/dist-packages/sklearn/linear_model/_coordinate_descent.py:592: ConvergenceWarning: Objective did not converge. You might want to increase the number of iterations. Duality gap: 571318788054.4636, tolerance: 4063733989.6724744\n",
            "  model = cd_fast.sparse_enet_coordinate_descent(\n",
            "/usr/local/lib/python3.10/dist-packages/sklearn/model_selection/_validation.py:686: UserWarning: With alpha=0, this algorithm does not converge well. You are advised to use the LinearRegression estimator\n",
            "  estimator.fit(X_train, y_train, **fit_params)\n",
            "/usr/local/lib/python3.10/dist-packages/sklearn/linear_model/_coordinate_descent.py:592: ConvergenceWarning: Objective did not converge. You might want to increase the number of iterations. Duality gap: 519687937719.6711, tolerance: 4011890833.538272\n",
            "  model = cd_fast.sparse_enet_coordinate_descent(\n",
            "/usr/local/lib/python3.10/dist-packages/sklearn/model_selection/_validation.py:686: UserWarning: With alpha=0, this algorithm does not converge well. You are advised to use the LinearRegression estimator\n",
            "  estimator.fit(X_train, y_train, **fit_params)\n",
            "/usr/local/lib/python3.10/dist-packages/sklearn/linear_model/_coordinate_descent.py:592: ConvergenceWarning: Objective did not converge. You might want to increase the number of iterations. Duality gap: 622136962986.9915, tolerance: 4136004866.7838244\n",
            "  model = cd_fast.sparse_enet_coordinate_descent(\n",
            "/usr/local/lib/python3.10/dist-packages/sklearn/model_selection/_validation.py:686: UserWarning: With alpha=0, this algorithm does not converge well. You are advised to use the LinearRegression estimator\n",
            "  estimator.fit(X_train, y_train, **fit_params)\n",
            "/usr/local/lib/python3.10/dist-packages/sklearn/linear_model/_coordinate_descent.py:592: ConvergenceWarning: Objective did not converge. You might want to increase the number of iterations. Duality gap: 487447661228.68506, tolerance: 3996681741.2552524\n",
            "  model = cd_fast.sparse_enet_coordinate_descent(\n",
            "/usr/local/lib/python3.10/dist-packages/sklearn/model_selection/_validation.py:686: UserWarning: With alpha=0, this algorithm does not converge well. You are advised to use the LinearRegression estimator\n",
            "  estimator.fit(X_train, y_train, **fit_params)\n",
            "/usr/local/lib/python3.10/dist-packages/sklearn/linear_model/_coordinate_descent.py:592: ConvergenceWarning: Objective did not converge. You might want to increase the number of iterations. Duality gap: 600716337823.3271, tolerance: 4111008623.7872844\n",
            "  model = cd_fast.sparse_enet_coordinate_descent(\n",
            "/usr/local/lib/python3.10/dist-packages/sklearn/model_selection/_validation.py:686: UserWarning: With alpha=0, this algorithm does not converge well. You are advised to use the LinearRegression estimator\n",
            "  estimator.fit(X_train, y_train, **fit_params)\n",
            "/usr/local/lib/python3.10/dist-packages/sklearn/linear_model/_coordinate_descent.py:592: ConvergenceWarning: Objective did not converge. You might want to increase the number of iterations. Duality gap: 640398307727.5583, tolerance: 4043807333.821148\n",
            "  model = cd_fast.sparse_enet_coordinate_descent(\n",
            "/usr/local/lib/python3.10/dist-packages/sklearn/model_selection/_validation.py:686: UserWarning: With alpha=0, this algorithm does not converge well. You are advised to use the LinearRegression estimator\n",
            "  estimator.fit(X_train, y_train, **fit_params)\n",
            "/usr/local/lib/python3.10/dist-packages/sklearn/linear_model/_coordinate_descent.py:592: ConvergenceWarning: Objective did not converge. You might want to increase the number of iterations. Duality gap: 588044485740.8689, tolerance: 4143153918.533187\n",
            "  model = cd_fast.sparse_enet_coordinate_descent(\n",
            "/usr/local/lib/python3.10/dist-packages/sklearn/model_selection/_validation.py:686: UserWarning: With alpha=0, this algorithm does not converge well. You are advised to use the LinearRegression estimator\n",
            "  estimator.fit(X_train, y_train, **fit_params)\n",
            "/usr/local/lib/python3.10/dist-packages/sklearn/linear_model/_coordinate_descent.py:592: ConvergenceWarning: Objective did not converge. You might want to increase the number of iterations. Duality gap: 644929383358.6473, tolerance: 4058371388.235384\n",
            "  model = cd_fast.sparse_enet_coordinate_descent(\n",
            "/usr/local/lib/python3.10/dist-packages/sklearn/model_selection/_validation.py:686: UserWarning: With alpha=0, this algorithm does not converge well. You are advised to use the LinearRegression estimator\n",
            "  estimator.fit(X_train, y_train, **fit_params)\n",
            "/usr/local/lib/python3.10/dist-packages/sklearn/linear_model/_coordinate_descent.py:592: ConvergenceWarning: Objective did not converge. You might want to increase the number of iterations. Duality gap: 544658297938.26184, tolerance: 3978030968.730101\n",
            "  model = cd_fast.sparse_enet_coordinate_descent(\n",
            "/usr/local/lib/python3.10/dist-packages/sklearn/model_selection/_validation.py:686: UserWarning: With alpha=0, this algorithm does not converge well. You are advised to use the LinearRegression estimator\n",
            "  estimator.fit(X_train, y_train, **fit_params)\n",
            "/usr/local/lib/python3.10/dist-packages/sklearn/linear_model/_coordinate_descent.py:592: ConvergenceWarning: Objective did not converge. You might want to increase the number of iterations. Duality gap: 644246726230.5411, tolerance: 4182644471.152925\n",
            "  model = cd_fast.sparse_enet_coordinate_descent(\n"
          ]
        },
        {
          "output_type": "stream",
          "name": "stdout",
          "text": [
            "Optimal value for alpha :  {'alpha': 500}\n",
            "Train score for the best model :  0.9696927964745765\n",
            "Test score for the best model :  0.9410300851334124\n"
          ]
        }
      ]
    },
    {
      "cell_type": "markdown",
      "source": [
        "The difference between the R-squared scores on the training and test data is not too large, which suggests that the model is not overfitting the training data."
      ],
      "metadata": {
        "id": "BBO6xiwjdXnx"
      }
    }
  ]
}